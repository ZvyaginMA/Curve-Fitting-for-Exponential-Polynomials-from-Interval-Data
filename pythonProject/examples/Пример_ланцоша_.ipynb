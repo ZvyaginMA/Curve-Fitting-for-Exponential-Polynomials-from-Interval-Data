{
  "nbformat": 4,
  "nbformat_minor": 0,
  "metadata": {
    "colab": {
      "provenance": []
    },
    "kernelspec": {
      "name": "python3",
      "display_name": "Python 3"
    },
    "language_info": {
      "name": "python"
    }
  },
  "cells": [
    {
      "cell_type": "code",
      "source": [
        "import math\n",
        "import numpy as np"
      ],
      "metadata": {
        "id": "JhmQLhbzvBXc"
      },
      "execution_count": 15,
      "outputs": []
    },
    {
      "cell_type": "code",
      "execution_count": 11,
      "metadata": {
        "id": "4FwxiCodu4Dt"
      },
      "outputs": [],
      "source": [
        "f = lambda x: 1.75199326e-06 * math.exp(-3.79829049e+03 * x)"
      ]
    },
    {
      "cell_type": "code",
      "source": [
        "f = lambda x: 1.75199326e-06 * math.exp(3.79829049e+03 * x)"
      ],
      "metadata": {
        "id": "lZUXQMEsvHNW"
      },
      "execution_count": null,
      "outputs": []
    },
    {
      "cell_type": "code",
      "source": [
        " a = 1.75199326 * math.exp(math.log(1e-06))\n",
        " a"
      ],
      "metadata": {
        "colab": {
          "base_uri": "https://localhost:8080/"
        },
        "id": "E7Ecvr81vLW4",
        "outputId": "ecd3d776-54a2-4387-8c72-81d17efed561"
      },
      "execution_count": 5,
      "outputs": [
        {
          "output_type": "execute_result",
          "data": {
            "text/plain": [
              "1.7519932600000009e-06"
            ]
          },
          "metadata": {},
          "execution_count": 5
        }
      ]
    },
    {
      "cell_type": "code",
      "source": [
        "-3.79829049e+03 * math.log(1e-03)"
      ],
      "metadata": {
        "colab": {
          "base_uri": "https://localhost:8080/"
        },
        "id": "Pt2iNdBOvwcL",
        "outputId": "121c7bd6-75b1-4162-b25a-1ecdebb044eb"
      },
      "execution_count": 8,
      "outputs": [
        {
          "output_type": "execute_result",
          "data": {
            "text/plain": [
              "26237.661183405147"
            ]
          },
          "metadata": {},
          "execution_count": 8
        }
      ]
    },
    {
      "cell_type": "code",
      "source": [
        "x_mid = np.array(range(0, 24, 1)) * 0.05"
      ],
      "metadata": {
        "id": "NiXcTmlCxvti"
      },
      "execution_count": 16,
      "outputs": []
    },
    {
      "cell_type": "code",
      "source": [
        "f = lambda a, b, x: np.array(a) @ np.exp( - x * np.array(b))\n",
        "\n",
        "\n",
        "\"\"\"\n",
        "  0.0016801321866205532\n",
        "[2.08404657e+00 4.57120604e-12 4.25673560e-01]\n",
        "[4.60646509 0.51699632 1.85283244]\n",
        "1\n",
        "\n",
        "0.0016801321866264374\n",
        "[2.08404657 0.42567356]\n",
        "[4.60646509 1.85283244]\n",
        "1\n",
        "\n",
        "0.0016801321866166674\n",
        "[6.68499642e-11 1.75199326e-06 2.08404657e+00 4.25673560e-01]\n",
        "[3.92780507e+00 3.79829049e+03 4.60646509e+00 1.85283244e+00]\n",
        "\"\"\""
      ],
      "metadata": {
        "colab": {
          "base_uri": "https://localhost:8080/",
          "height": 87
        },
        "id": "doMWIH-ov-Jq",
        "outputId": "bf6153c5-34a3-45d1-adf3-969d1742b885"
      },
      "execution_count": 21,
      "outputs": [
        {
          "output_type": "execute_result",
          "data": {
            "text/plain": [
              "'\\n  0.0016801321866205532\\n[2.08404657e+00 4.57120604e-12 4.25673560e-01]\\n[4.60646509 0.51699632 1.85283244]\\n1\\n\\n0.0016801321866264374\\n[2.08404657 0.42567356]\\n[4.60646509 1.85283244]\\n1\\n\\n0.0016801321866166674\\n[6.68499642e-11 1.75199326e-06 2.08404657e+00 4.25673560e-01]\\n[3.92780507e+00 3.79829049e+03 4.60646509e+00 1.85283244e+00]\\n'"
            ],
            "application/vnd.google.colaboratory.intrinsic+json": {
              "type": "string"
            }
          },
          "metadata": {},
          "execution_count": 21
        }
      ]
    },
    {
      "cell_type": "code",
      "source": [
        "f = lambda a, b, x: np.round(np.array(a),4) @ np.exp( - x * np.round(np.array(b), 4))\n",
        "x_mid = np.array(range(0, 24, 1)) * 0.05\n",
        "a = [0.0951, 0.8607, 1.5576]\n",
        "b = [1.0,3.0, 5.0]\n",
        "a1 = [2.202, 0.305]\n",
        "b1 = [4.45, 1.58]\n",
        "a2 = [2.08404657, 0.42567356]\n",
        "b2 = [4.60646509, 1.85283244]\n",
        "a3 = [2.08404657e+00, 4.25673560e-01, 4.57120604e-12]\n",
        "b3 = [4.60646509 ,1.85283244, 0.51699632]\n",
        "a4 = [6.68499642e-11, 1.75199326e-06, 2.08404657e+00 ,4.25673560e-01]\n",
        "b4 = [3.92780507e+00, 3.79829049e+03 ,4.60646509e+00, 1.85283244e+00]\n",
        "[f(a2, b2, x) - f(a3, b3, x) for x in x_mid]\n",
        "[f(a2, b2, x)- f(a4, b4, x)  for x in x_mid]\n"
      ],
      "metadata": {
        "colab": {
          "base_uri": "https://localhost:8080/"
        },
        "id": "EDnILXR3yj8G",
        "outputId": "a2a1ae0f-31a1-4585-dc75-e4701058a094"
      },
      "execution_count": 71,
      "outputs": [
        {
          "output_type": "execute_result",
          "data": {
            "text/plain": [
              "[0.0,\n",
              " 0.0,\n",
              " 0.0,\n",
              " 0.0,\n",
              " 0.0,\n",
              " 0.0,\n",
              " 0.0,\n",
              " 0.0,\n",
              " 0.0,\n",
              " 0.0,\n",
              " 0.0,\n",
              " 0.0,\n",
              " 0.0,\n",
              " 0.0,\n",
              " 0.0,\n",
              " 0.0,\n",
              " 0.0,\n",
              " 0.0,\n",
              " 0.0,\n",
              " 0.0,\n",
              " 0.0,\n",
              " 0.0,\n",
              " 0.0,\n",
              " 0.0]"
            ]
          },
          "metadata": {},
          "execution_count": 71
        }
      ]
    },
    {
      "cell_type": "code",
      "source": [
        "np.max(np.abs([f(a2, b2, x) - f(a3, b3, x) for x in x_mid]))"
      ],
      "metadata": {
        "colab": {
          "base_uri": "https://localhost:8080/"
        },
        "id": "MOpNC8TfzY52",
        "outputId": "f9973288-1b07-456f-94ec-281ed4a805f7"
      },
      "execution_count": 67,
      "outputs": [
        {
          "output_type": "execute_result",
          "data": {
            "text/plain": [
              "0.0"
            ]
          },
          "metadata": {},
          "execution_count": 67
        }
      ]
    },
    {
      "cell_type": "code",
      "source": [
        "np.max(np.abs([f(a2, b2, x)- f(a4, b4, x)  for x in x_mid] ))"
      ],
      "metadata": {
        "colab": {
          "base_uri": "https://localhost:8080/"
        },
        "id": "EHLpyLBfzWtG",
        "outputId": "6e78c00f-4077-4370-a94a-951a19ae39b3"
      },
      "execution_count": 68,
      "outputs": [
        {
          "output_type": "execute_result",
          "data": {
            "text/plain": [
              "0.0"
            ]
          },
          "metadata": {},
          "execution_count": 68
        }
      ]
    },
    {
      "cell_type": "code",
      "source": [
        "ft = np.array([f(a, b, x) for x in x_mid])\n",
        "fl = np.array([f(a1, b1, x) for x in x_mid])\n",
        "f2 = np.array([f(a2, b2, x) for x in x_mid])\n",
        "f3 = np.array([f(a3, b3, x) for x in x_mid])\n",
        "f4 = np.array([f(a4, b4, x) for x in x_mid])\n",
        "print(np.abs(ft - fl).max())\n",
        "print(np.abs(ft - f2).max())\n",
        "print(np.abs(ft - f3).max())\n",
        "print(np.abs(ft - f4).max())"
      ],
      "metadata": {
        "colab": {
          "base_uri": "https://localhost:8080/"
        },
        "id": "54S-Owu9-kK3",
        "outputId": "32193a81-dba3-49f7-d526-761d9581ac9c"
      },
      "execution_count": 72,
      "outputs": [
        {
          "output_type": "stream",
          "name": "stdout",
          "text": [
            "0.006399999999999739\n",
            "0.0036999999999998145\n",
            "0.0036999999999998145\n",
            "0.0036999999999998145\n"
          ]
        }
      ]
    },
    {
      "cell_type": "code",
      "source": [
        "np.linalg.norm(ft - fl), np.linalg.norm(ft - f3)"
      ],
      "metadata": {
        "colab": {
          "base_uri": "https://localhost:8080/"
        },
        "id": "M4p5CdetAQtX",
        "outputId": "5e8aae95-4aba-42b6-f807-03d2c412e4ae"
      },
      "execution_count": 63,
      "outputs": [
        {
          "output_type": "execute_result",
          "data": {
            "text/plain": [
              "(0.009741148273458575, 0.004943307312571838)"
            ]
          },
          "metadata": {},
          "execution_count": 63
        }
      ]
    },
    {
      "cell_type": "code",
      "source": [
        "y_mid = np.array([2.51, 2.04, 1.67, 1.37, 1.12, 0.93, 0.77, 0.64, 0.53, 0.45, 0.38, 0.32, 0.27, 0.23, 0.20, 0.17, 0.15, 0.13, 0.11, 0.10, 0.09,0.08, 0.07, 0.06])\n",
        ""
      ],
      "metadata": {
        "id": "hrK_RU8CBuZj"
      },
      "execution_count": 64,
      "outputs": []
    },
    {
      "cell_type": "code",
      "source": [
        "print(np.abs(ft - y_mid).max())\n",
        "print(np.abs(y_mid - fl).max())\n",
        "print(np.abs(y_mid - f2).max())\n"
      ],
      "metadata": {
        "colab": {
          "base_uri": "https://localhost:8080/"
        },
        "id": "tJDHkJFjBvXM",
        "outputId": "09ab6b7c-d58f-4eeb-b4dd-d9a1a63d4b84"
      },
      "execution_count": 73,
      "outputs": [
        {
          "output_type": "stream",
          "name": "stdout",
          "text": [
            "0.004333373291085518\n",
            "0.006627099861789665\n",
            "0.0033270793548523248\n"
          ]
        }
      ]
    },
    {
      "cell_type": "code",
      "source": [
        "np.linalg.norm(ft - y_mid)/24, np.linalg.norm(fl - y_mid)/24, np.linalg.norm(f2 - y_mid)/24"
      ],
      "metadata": {
        "colab": {
          "base_uri": "https://localhost:8080/"
        },
        "id": "45cjWBnrDssd",
        "outputId": "32032e28-66af-4465-caf0-c6b97f19263d"
      },
      "execution_count": 75,
      "outputs": [
        {
          "output_type": "execute_result",
          "data": {
            "text/plain": [
              "(0.0004889469349932542, 0.0005046251575199018, 0.000462396329192439)"
            ]
          },
          "metadata": {},
          "execution_count": 75
        }
      ]
    },
    {
      "cell_type": "code",
      "source": [],
      "metadata": {
        "id": "kiIT14AuDsm1"
      },
      "execution_count": null,
      "outputs": []
    }
  ]
}